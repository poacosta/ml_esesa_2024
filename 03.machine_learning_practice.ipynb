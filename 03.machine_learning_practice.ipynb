{
 "cells": [
  {
   "cell_type": "markdown",
   "id": "ac79c41d-e8af-4487-893d-832c9e51c491",
   "metadata": {},
   "source": [
    "# Machine Learning: práctica"
   ]
  },
  {
   "cell_type": "markdown",
   "id": "c32ad914-1965-44de-9c6b-d4a9f65182ab",
   "metadata": {},
   "source": [
    "Vamos a utilizar un dataset de coches `cars.csv`"
   ]
  },
  {
   "cell_type": "markdown",
   "id": "087108a7-9df7-40d9-bc51-248149453c27",
   "metadata": {},
   "source": [
    "Queremos predecir la variable `mpg` (miles per gallon)"
   ]
  },
  {
   "cell_type": "markdown",
   "id": "12bd27ce-5c4d-4fa3-b964-6d95c22f559e",
   "metadata": {},
   "source": [
    "La métrica para evaluar modelos será RMSE"
   ]
  },
  {
   "cell_type": "markdown",
   "id": "31ad3094-c00a-4403-b422-9631c2aeaf8b",
   "metadata": {},
   "source": [
    "## Carga y exploración"
   ]
  },
  {
   "cell_type": "markdown",
   "id": "3e1549d3-c167-41ba-826f-bc453f974d46",
   "metadata": {},
   "source": [
    "Carga el dataset y explóralo"
   ]
  },
  {
   "cell_type": "code",
   "execution_count": 1,
   "id": "38c8f833-9866-45bc-a98a-c6d3b9522447",
   "metadata": {},
   "outputs": [],
   "source": [
    "import pandas as pd"
   ]
  },
  {
   "cell_type": "code",
   "execution_count": 12,
   "id": "ba9657b6-f983-477e-b164-e51645725e95",
   "metadata": {},
   "outputs": [],
   "source": [
    "df = pd.read_csv(\"./datasets/cars.csv\")"
   ]
  },
  {
   "cell_type": "code",
   "execution_count": null,
   "id": "5a076bb6-5249-403d-b53d-50fa6c37095b",
   "metadata": {},
   "outputs": [],
   "source": []
  },
  {
   "cell_type": "markdown",
   "id": "1db75c0a-bc73-4608-b429-ae2349df482b",
   "metadata": {},
   "source": [
    "## Modelado"
   ]
  },
  {
   "cell_type": "markdown",
   "id": "51be3721-6efe-415c-bc8e-422134bfe34e",
   "metadata": {},
   "source": [
    "Separa el dataset en train/test"
   ]
  },
  {
   "cell_type": "markdown",
   "id": "2e002cee-590a-4fd8-970d-b327002ac446",
   "metadata": {},
   "source": [
    "### Modelo sencillo"
   ]
  },
  {
   "cell_type": "markdown",
   "id": "b1696de2-6efd-4b00-8ffb-c5fc71adc3b1",
   "metadata": {},
   "source": [
    "Entrena un modelo sencillo (con 2 o 3 predictores) con el train set"
   ]
  },
  {
   "cell_type": "code",
   "execution_count": null,
   "id": "f47d4615-b235-4446-ad96-196da00a04c9",
   "metadata": {},
   "outputs": [],
   "source": []
  },
  {
   "cell_type": "markdown",
   "id": "95967c37-21d9-440a-a34d-e92175385fc9",
   "metadata": {},
   "source": [
    "Evalúa el modelo en el train set"
   ]
  },
  {
   "cell_type": "code",
   "execution_count": null,
   "id": "617548dc-2064-4620-ae04-0f83f2032124",
   "metadata": {},
   "outputs": [],
   "source": []
  },
  {
   "cell_type": "markdown",
   "id": "04325f17-a52b-4158-9a3d-ba55934ea324",
   "metadata": {},
   "source": [
    "Evalúa el modelo en el test set"
   ]
  },
  {
   "cell_type": "code",
   "execution_count": null,
   "id": "8f22ac79-1d65-474e-a28b-03b4d04a02d8",
   "metadata": {},
   "outputs": [],
   "source": []
  },
  {
   "cell_type": "markdown",
   "id": "0ef1d3f0-b2c8-4e70-911a-3b9a26154870",
   "metadata": {},
   "source": [
    "### Modelo más complejo"
   ]
  },
  {
   "cell_type": "markdown",
   "id": "82904dd6-ab01-439e-8216-4e5c94763311",
   "metadata": {},
   "source": [
    "Haz lo mismo con un modelo más complejo (más predictores)"
   ]
  },
  {
   "cell_type": "code",
   "execution_count": null,
   "id": "5966265e-3d40-4df6-a123-df5116a066ba",
   "metadata": {},
   "outputs": [],
   "source": []
  },
  {
   "cell_type": "markdown",
   "id": "25239fca-7768-4dc7-964c-bdbd5142a83b",
   "metadata": {},
   "source": [
    "### Cross validation"
   ]
  },
  {
   "cell_type": "markdown",
   "id": "317909a7-d0c0-4b45-8d55-2a2d8fab8a8d",
   "metadata": {},
   "source": [
    "Haz validación cruzada para ver su performance"
   ]
  },
  {
   "cell_type": "code",
   "execution_count": null,
   "id": "8b84890f-1b34-466f-b8f1-7bd552da7e74",
   "metadata": {},
   "outputs": [],
   "source": []
  }
 ],
 "metadata": {
  "kernelspec": {
   "display_name": "Python 3 (ipykernel)",
   "language": "python",
   "name": "python3"
  },
  "language_info": {
   "codemirror_mode": {
    "name": "ipython",
    "version": 3
   },
   "file_extension": ".py",
   "mimetype": "text/x-python",
   "name": "python",
   "nbconvert_exporter": "python",
   "pygments_lexer": "ipython3",
   "version": "3.10.12"
  }
 },
 "nbformat": 4,
 "nbformat_minor": 5
}
