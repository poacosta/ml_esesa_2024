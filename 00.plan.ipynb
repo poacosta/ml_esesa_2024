{
 "cells": [
  {
   "cell_type": "markdown",
   "metadata": {},
   "source": [
    "# Módulo 2: Aprendizaje Automático Aplicado - Parte 1"
   ]
  },
  {
   "cell_type": "markdown",
   "metadata": {},
   "source": [
    "por [Manuel López Sheriff](https://www.linkedin.com/in/sheriff-data/)"
   ]
  },
  {
   "cell_type": "code",
   "execution_count": null,
   "metadata": {},
   "outputs": [],
   "source": []
  },
  {
   "cell_type": "markdown",
   "metadata": {},
   "source": [
    "## Plan"
   ]
  },
  {
   "cell_type": "markdown",
   "metadata": {},
   "source": [
    "6 sesiones teórico-prácticas  \n",
    "Días: MXJ, 12-21 Noviembre  \n",
    "Horario: 16h30-20h30\n",
    "\n",
    " 1. Review: Análisis de datos con `pandas`. Visualización con `seaborn`\n",
    " 2. ML supervisado: Motivación, regresión\n",
    " 3. Introducción al Machine Learning\n",
    " 4. Clasificación I\n",
    " 5. Clasificación II\n",
    " 6. Árboles de decisión"
   ]
  },
  {
   "cell_type": "code",
   "execution_count": null,
   "metadata": {},
   "outputs": [],
   "source": []
  },
  {
   "cell_type": "markdown",
   "metadata": {},
   "source": [
    "## Slido"
   ]
  },
  {
   "cell_type": "markdown",
   "metadata": {},
   "source": [
    "<a href=\"https://app.sli.do/event/dYi233LeMpdDF7cKjHzunJ\" target=\"_blank\">Slido</a> para quizzes y encuestas anónimas"
   ]
  },
  {
   "cell_type": "code",
   "execution_count": null,
   "metadata": {},
   "outputs": [],
   "source": []
  },
  {
   "cell_type": "markdown",
   "metadata": {},
   "source": [
    "## Jupyter notebook"
   ]
  },
  {
   "cell_type": "markdown",
   "metadata": {},
   "source": [
    "Ésto que ves es un [jupyter notebook](https://jupyter.org/).\n",
    " - Un híbrido entre Power Point y entorno de programación\n",
    " - Cuyos archivos tienen extensión `.ipynb`\n",
    " - Para trabajar con ellos, puedes:  \n",
    "   - descargar Python y jupyter o\n",
    "   - verlo (y modificarlo) en [Google Colab](https://colab.research.google.com/?hl=es)\n",
    " - Exportable a `.html`"
   ]
  },
  {
   "cell_type": "code",
   "execution_count": null,
   "metadata": {},
   "outputs": [],
   "source": []
  },
  {
   "cell_type": "markdown",
   "metadata": {},
   "source": [
    "## Nos presentamos?"
   ]
  },
  {
   "cell_type": "markdown",
   "metadata": {},
   "source": [
    "<img width=300 src=\"https://cdn.dribbble.com/users/1028493/screenshots/2929510/people-icons-powerpoint.jpg\">"
   ]
  }
 ],
 "metadata": {
  "kernelspec": {
   "display_name": "Python 3 (ipykernel)",
   "language": "python",
   "name": "python3"
  },
  "language_info": {
   "codemirror_mode": {
    "name": "ipython",
    "version": 3
   },
   "file_extension": ".py",
   "mimetype": "text/x-python",
   "name": "python",
   "nbconvert_exporter": "python",
   "pygments_lexer": "ipython3",
   "version": "3.10.12"
  },
  "toc": {
   "base_numbering": 1,
   "nav_menu": {},
   "number_sections": false,
   "sideBar": true,
   "skip_h1_title": true,
   "title_cell": "Table of Contents",
   "title_sidebar": "Contents",
   "toc_cell": false,
   "toc_position": {},
   "toc_section_display": true,
   "toc_window_display": false
  }
 },
 "nbformat": 4,
 "nbformat_minor": 4
}
