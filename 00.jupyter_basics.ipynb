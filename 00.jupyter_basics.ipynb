{
 "cells": [
  {
   "cell_type": "markdown",
   "id": "f1345edc-f4da-4afc-bdb9-2c0bc095b70f",
   "metadata": {},
   "source": [
    "# Jupyter shortcuts"
   ]
  },
  {
   "cell_type": "markdown",
   "id": "0a925810-3fff-4341-84ab-61d2ed1fff93",
   "metadata": {},
   "source": [
    "`Enter`: Modo edición\n",
    "\n",
    "`ESC`: Modo comando"
   ]
  },
  {
   "cell_type": "markdown",
   "id": "584d215d-490f-4c9b-836b-feda5c0f25e9",
   "metadata": {},
   "source": [
    "En modo comando:\n",
    "\n",
    "`A`: Insertar una nueva celda arriba\n",
    "\n",
    "`B`: Insertar una nueva celda abajo\n",
    "\n",
    "`C`: Copiar la celda seleccionada\n",
    "\n",
    "`V`: Pegar la celda copiada\n",
    "\n",
    "`X`: Cortar la celda seleccionada\n",
    "\n",
    "`M`: Cambiar celda a tipo Markdown\n",
    "\n",
    "`Y`: Cambiar celda a tipo código\n",
    "\n",
    "`H`: Mostrar shortcuts\n",
    "\n",
    "`Shift + M`: Mergear celdas"
   ]
  },
  {
   "cell_type": "markdown",
   "id": "006f6665-0f5c-4943-8d71-dde3b9c786bf",
   "metadata": {},
   "source": [
    "En modo edición:  \n",
    "\n",
    "`Tab`: Autocompletar código o indentar \n",
    "\n",
    "`Shift + Tab`: Mostrar documentación del objeto (debe ser usado dentro del código)\n",
    "\n",
    "`Ctrl + Shift + -`: Separar celda en 2"
   ]
  },
  {
   "cell_type": "markdown",
   "id": "da3c126e-678b-4f91-a1f1-42f29cc8e9db",
   "metadata": {},
   "source": [
    "`Shift + Enter`: Ejecutar la celda y seleccionar la siguiente"
   ]
  }
 ],
 "metadata": {
  "kernelspec": {
   "display_name": "Python 3 (ipykernel)",
   "language": "python",
   "name": "python3"
  },
  "language_info": {
   "codemirror_mode": {
    "name": "ipython",
    "version": 3
   },
   "file_extension": ".py",
   "mimetype": "text/x-python",
   "name": "python",
   "nbconvert_exporter": "python",
   "pygments_lexer": "ipython3",
   "version": "3.10.12"
  }
 },
 "nbformat": 4,
 "nbformat_minor": 5
}
